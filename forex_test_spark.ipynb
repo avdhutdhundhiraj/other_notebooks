{
 "cells": [
  {
   "cell_type": "code",
   "execution_count": 1,
   "metadata": {},
   "outputs": [],
   "source": [
    "from pyspark import SparkContext\n",
    "from pyspark.streaming  import StreamingContext\n",
    "from pyspark import SparkConf\n",
    "from pyspark.sql import SparkSession\n",
    "from pyspark.sql import SQLContext\n",
    "from pyspark.ml.feature import Bucketizer\n",
    "import pyspark.sql.functions as f\n",
    "from pyspark.sql.functions import col"
   ]
  },
  {
   "cell_type": "code",
   "execution_count": 2,
   "metadata": {},
   "outputs": [],
   "source": [
    "sc = SparkContext()\n",
    "ssc = StreamingContext(sc,10)\n",
    "spark = SQLContext(sc)"
   ]
  },
  {
   "cell_type": "code",
   "execution_count": 3,
   "metadata": {},
   "outputs": [],
   "source": [
    "from pyspark.sql.types import *\n",
    "newDF=[StructField('ticker',StringType(),True),\n",
    "       StructField('date',StringType(),True),\n",
    "       StructField('time',StringType(),True),\n",
    "       StructField('open',FloatType(),True),\n",
    "       StructField('high',FloatType(),True),\n",
    "       StructField('low',FloatType(),True),\n",
    "       StructField('close',FloatType(),True),\n",
    "       StructField('vol',IntegerType(),True)\n",
    "       ]\n",
    "finalStruct=StructType(fields=newDF)"
   ]
  },
  {
   "cell_type": "code",
   "execution_count": 4,
   "metadata": {},
   "outputs": [],
   "source": [
    "df = spark.read.csv('/home/indranil/prices/all_csv/*.csv', schema=finalStruct,header=False)"
   ]
  },
  {
   "cell_type": "code",
   "execution_count": 5,
   "metadata": {},
   "outputs": [
    {
     "name": "stdout",
     "output_type": "stream",
     "text": [
      "root\n",
      " |-- ticker: string (nullable = true)\n",
      " |-- date: string (nullable = true)\n",
      " |-- time: string (nullable = true)\n",
      " |-- open: float (nullable = true)\n",
      " |-- high: float (nullable = true)\n",
      " |-- low: float (nullable = true)\n",
      " |-- close: float (nullable = true)\n",
      " |-- vol: integer (nullable = true)\n",
      "\n"
     ]
    }
   ],
   "source": [
    "df.printSchema()"
   ]
  },
  {
   "cell_type": "code",
   "execution_count": 6,
   "metadata": {},
   "outputs": [],
   "source": [
    "df = df.filter(~df['ticker'].isin(['<TICKER>']))"
   ]
  },
  {
   "cell_type": "code",
   "execution_count": 7,
   "metadata": {},
   "outputs": [],
   "source": [
    "#df.groupBy('ticker').count().show()"
   ]
  },
  {
   "cell_type": "code",
   "execution_count": 8,
   "metadata": {},
   "outputs": [
    {
     "data": {
      "text/plain": [
       "[('ticker', 'string'),\n",
       " ('date', 'string'),\n",
       " ('time', 'string'),\n",
       " ('open', 'float'),\n",
       " ('high', 'float'),\n",
       " ('low', 'float'),\n",
       " ('close', 'float'),\n",
       " ('vol', 'int')]"
      ]
     },
     "execution_count": 8,
     "metadata": {},
     "output_type": "execute_result"
    }
   ],
   "source": [
    "df.dtypes"
   ]
  },
  {
   "cell_type": "code",
   "execution_count": 9,
   "metadata": {},
   "outputs": [],
   "source": [
    "from pyspark.sql.functions import udf, struct"
   ]
  },
  {
   "cell_type": "code",
   "execution_count": 10,
   "metadata": {},
   "outputs": [],
   "source": [
    "#test_str = \"20010102\""
   ]
  },
  {
   "cell_type": "code",
   "execution_count": 11,
   "metadata": {},
   "outputs": [],
   "source": [
    "#test_str[-2:]\n",
    "# df = df.withColumn(\"date\", df[\"date\"].cast(DateType()))"
   ]
  },
  {
   "cell_type": "code",
   "execution_count": 12,
   "metadata": {},
   "outputs": [
    {
     "name": "stdout",
     "output_type": "stream",
     "text": [
      "+------+--------+------+------+------+------+------+---+\n",
      "|ticker|    date|  time|  open|  high|   low| close|vol|\n",
      "+------+--------+------+------+------+------+------+---+\n",
      "|GBPJPY|20010102|230100|171.88|171.88|171.86|171.86|  4|\n",
      "|GBPJPY|20010102|230200|171.86|171.87|171.86|171.87|  4|\n",
      "|GBPJPY|20010102|230300|171.87|171.87|171.87|171.87|  4|\n",
      "|GBPJPY|20010102|230400|171.87|171.88|171.87|171.88|  4|\n",
      "|GBPJPY|20010102|230500|171.88|171.88|171.88|171.88|  4|\n",
      "|GBPJPY|20010102|230600|171.88|171.88|171.88|171.88|  4|\n",
      "|GBPJPY|20010102|230700|171.88|171.88|171.88|171.88|  4|\n",
      "|GBPJPY|20010102|230800|171.88|171.88|171.87|171.87|  4|\n",
      "|GBPJPY|20010102|230900|171.87|171.87|171.87|171.87|  4|\n",
      "|GBPJPY|20010102|231100|171.87|171.88|171.87|171.88|  4|\n",
      "|GBPJPY|20010102|231200|171.88|171.89|171.88|171.89|  4|\n",
      "|GBPJPY|20010102|231300|171.89|171.89|171.89|171.89|  4|\n",
      "|GBPJPY|20010102|231400|171.88|171.88|171.81|171.81|  4|\n",
      "|GBPJPY|20010102|231500|171.81|171.81| 171.8| 171.8|  4|\n",
      "|GBPJPY|20010102|231600|171.79|171.79|171.79|171.79|  4|\n",
      "|GBPJPY|20010102|232000|171.78|171.78|171.77|171.77|  4|\n",
      "|GBPJPY|20010102|232100|171.76|171.76|171.76|171.76|  4|\n",
      "|GBPJPY|20010102|232700|171.78|171.78|171.78|171.78|  4|\n",
      "|GBPJPY|20010102|232800|171.77|171.77|171.77|171.77|  4|\n",
      "|GBPJPY|20010102|232900|171.77|171.77|171.77|171.77|  4|\n",
      "+------+--------+------+------+------+------+------+---+\n",
      "only showing top 20 rows\n",
      "\n"
     ]
    }
   ],
   "source": [
    "df.show()"
   ]
  },
  {
   "cell_type": "code",
   "execution_count": 13,
   "metadata": {},
   "outputs": [],
   "source": [
    "get_year = udf(lambda x:x[:4],StringType())\n",
    "get_month = udf(lambda x:x[4:6],StringType())\n",
    "get_day = udf(lambda x:x[-2:],StringType())\n",
    "get_hour = udf(lambda x:x[:2],StringType())\n",
    "get_min = udf(lambda x:x[2:4],StringType())\n",
    "df = df.withColumn(\"year\", get_year(df['date']))\n",
    "df = df.withColumn(\"month\", get_month(df['date']))\n",
    "df = df.withColumn(\"day\", get_day(df['date']))\n",
    "df = df.withColumn(\"hour\", get_hour(df['time']))\n",
    "df = df.withColumn(\"minute\", get_min(df['time']))"
   ]
  },
  {
   "cell_type": "code",
   "execution_count": 14,
   "metadata": {},
   "outputs": [],
   "source": [
    "get_month = udf(lambda x:x[4:6],StringType())\n",
    "get_day = udf(lambda x:x[-2:],StringType())\n",
    "get_hour = udf(lambda x:x[:2],StringType())\n",
    "get_min = udf(lambda x:x[2:4],StringType())"
   ]
  },
  {
   "cell_type": "code",
   "execution_count": 15,
   "metadata": {},
   "outputs": [],
   "source": [
    "df = df.withColumn(\"year\", get_year(df['date']))\n",
    "df = df.withColumn(\"month\", get_month(df['date']))\n",
    "df = df.withColumn(\"day\", get_day(df['date']))\n",
    "df = df.withColumn(\"hour\", get_hour(df['time']))\n",
    "df = df.withColumn(\"minute\", get_min(df['time']))"
   ]
  },
  {
   "cell_type": "code",
   "execution_count": 16,
   "metadata": {},
   "outputs": [],
   "source": [
    "df = df.withColumn(\"change\", col('high')-col('low'))"
   ]
  },
  {
   "cell_type": "code",
   "execution_count": 17,
   "metadata": {},
   "outputs": [],
   "source": [
    "df = df.withColumn(\"year\", df[\"year\"].cast(IntegerType()))\n",
    "df = df.withColumn(\"month\", df[\"month\"].cast(IntegerType()))\n",
    "df = df.withColumn(\"day\", df[\"day\"].cast(IntegerType()))\n",
    "df = df.withColumn(\"year\", df[\"year\"].cast(IntegerType()))"
   ]
  },
  {
   "cell_type": "code",
   "execution_count": 19,
   "metadata": {},
   "outputs": [],
   "source": [
    "g_df = df.groupby(['year','month']).agg(f.avg('change'))"
   ]
  },
  {
   "cell_type": "code",
   "execution_count": 20,
   "metadata": {},
   "outputs": [],
   "source": [
    "g_df =g_df.toPandas()"
   ]
  },
  {
   "cell_type": "code",
   "execution_count": 22,
   "metadata": {},
   "outputs": [],
   "source": [
    "import numpy as np "
   ]
  },
  {
   "cell_type": "code",
   "execution_count": 25,
   "metadata": {},
   "outputs": [
    {
     "data": {
      "text/plain": [
       "0.01424956577416933"
      ]
     },
     "execution_count": 25,
     "metadata": {},
     "output_type": "execute_result"
    }
   ],
   "source": [
    "np.sum(np.diff(g_df['avg(change)'].to_list()))"
   ]
  },
  {
   "cell_type": "code",
   "execution_count": 25,
   "metadata": {},
   "outputs": [],
   "source": [
    "\n",
    "from pyspark.ml.feature import Bucketizer"
   ]
  },
  {
   "cell_type": "code",
   "execution_count": 26,
   "metadata": {},
   "outputs": [],
   "source": [
    "def approx_quartile(df,col,outcol,qur =8):\n",
    "    y = list(np.true_divide(np.arange(qur),qur-1))\n",
    "    y.pop(0)\n",
    "    splits = df.approxQuantile(col, y, 0.0005) # no need\n",
    "    splits.insert(0,0)\n",
    "    bucketizer = Bucketizer(splits=splits,inputCol=col, outputCol=outcol)\n",
    "    df= bucketizer.transform(df)\n",
    "    return df\n",
    "    \n"
   ]
  },
  {
   "cell_type": "code",
   "execution_count": 27,
   "metadata": {},
   "outputs": [],
   "source": [
    "df = approx_quartile(df,\"high\",\"buckethigh\")"
   ]
  },
  {
   "cell_type": "code",
   "execution_count": 28,
   "metadata": {},
   "outputs": [],
   "source": [
    "df = approx_quartile(df,\"low\",\"bucketlow\")"
   ]
  },
  {
   "cell_type": "code",
   "execution_count": 29,
   "metadata": {},
   "outputs": [],
   "source": [
    "df = approx_quartile(df,\"open\",\"bucketopen\")"
   ]
  },
  {
   "cell_type": "code",
   "execution_count": 30,
   "metadata": {},
   "outputs": [],
   "source": [
    "df = approx_quartile(df,\"close\",\"bucketclose\")"
   ]
  },
  {
   "cell_type": "code",
   "execution_count": 32,
   "metadata": {},
   "outputs": [
    {
     "data": {
      "text/plain": [
       "DataFrame[ticker: string, date: string, time: string, open: float, high: float, low: float, close: float, vol: int, year: string, month: string, day: string, hour: string, minute: string, buckethigh: double, bucketlow: double, bucketopen: double, bucketclose: double]"
      ]
     },
     "execution_count": 32,
     "metadata": {},
     "output_type": "execute_result"
    }
   ],
   "source": [
    "df"
   ]
  },
  {
   "cell_type": "code",
   "execution_count": 33,
   "metadata": {},
   "outputs": [],
   "source": [
    "df_low = df.filter(df['bucketopen'].isin([0.0]))"
   ]
  },
  {
   "cell_type": "code",
   "execution_count": 36,
   "metadata": {},
   "outputs": [
    {
     "name": "stdout",
     "output_type": "stream",
     "text": [
      "+-----------+--------+\n",
      "|bucketclose|   count|\n",
      "+-----------+--------+\n",
      "|        0.0|15197692|\n",
      "|        1.0|  113299|\n",
      "+-----------+--------+\n",
      "\n"
     ]
    }
   ],
   "source": [
    "df_low.groupBy('bucketclose').count().show()"
   ]
  },
  {
   "cell_type": "code",
   "execution_count": 37,
   "metadata": {},
   "outputs": [
    {
     "name": "stdout",
     "output_type": "stream",
     "text": [
      "+----------+--------+\n",
      "|bucketopen|   count|\n",
      "+----------+--------+\n",
      "|       0.0|15310991|\n",
      "|       1.0|15135190|\n",
      "|       4.0|15184941|\n",
      "|       3.0|15185339|\n",
      "|       2.0|15215142|\n",
      "|       6.0|15163231|\n",
      "|       5.0|15167450|\n",
      "+----------+--------+\n",
      "\n"
     ]
    }
   ],
   "source": [
    "df.groupBy('bucketopen').count().show()"
   ]
  },
  {
   "cell_type": "code",
   "execution_count": 36,
   "metadata": {},
   "outputs": [],
   "source": [
    "sum_v =df1.agg(f.sum('close'))"
   ]
  },
  {
   "cell_type": "code",
   "execution_count": 37,
   "metadata": {},
   "outputs": [
    {
     "name": "stdout",
     "output_type": "stream",
     "text": [
      "+-------------------+\n",
      "|         sum(close)|\n",
      "+-------------------+\n",
      "|5.525987008346418E8|\n",
      "+-------------------+\n",
      "\n"
     ]
    }
   ],
   "source": [
    "sum_v.show()"
   ]
  },
  {
   "cell_type": "code",
   "execution_count": null,
   "metadata": {},
   "outputs": [],
   "source": []
  }
 ],
 "metadata": {
  "kernelspec": {
   "display_name": "Python 3",
   "language": "python",
   "name": "python3"
  },
  "language_info": {
   "codemirror_mode": {
    "name": "ipython",
    "version": 3
   },
   "file_extension": ".py",
   "mimetype": "text/x-python",
   "name": "python",
   "nbconvert_exporter": "python",
   "pygments_lexer": "ipython3",
   "version": "3.7.3"
  }
 },
 "nbformat": 4,
 "nbformat_minor": 2
}
